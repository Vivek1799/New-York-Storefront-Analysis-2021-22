{
 "cells": [
  {
   "cell_type": "markdown",
   "metadata": {},
   "source": [
    "In this notebook we will use US Census Bureau's API to get the zip level data for our economic variables. We will use the following variables:\n",
    "\n",
    "1. Median Household Income\n",
    "2. Poverty Rate\n",
    "3. Unemployment Rate\n"
   ]
  },
  {
   "cell_type": "code",
   "execution_count": 2,
   "metadata": {},
   "outputs": [],
   "source": [
    "import requests\n",
    "import pandas as pd\n",
    "\n",
    "api_key = '118733171a8f1248ede31f85f1436d2f78d14d94'\n",
    "\n",
    "# Define the parameters for the API request\n",
    "params = {\n",
    "    'get': 'NAME,B17001_001E,B17001_002E,B23025_001E,B23025_005E,B19013_001E',\n",
    "    'for': 'zip code tabulation area:*',\n",
    "    'in': 'state:36',\n",
    "    'key': api_key\n",
    "}"
   ]
  },
  {
   "cell_type": "code",
   "execution_count": 3,
   "metadata": {},
   "outputs": [],
   "source": [
    "\n",
    "# Make the API request to the ACS 5-Year Estimates endpoint\n",
    "response = requests.get('https://api.census.gov/data/2019/acs/acs5', params=params)"
   ]
  },
  {
   "cell_type": "code",
   "execution_count": 4,
   "metadata": {},
   "outputs": [],
   "source": [
    "# Load the response data into a DataFrame\n",
    "data = response.json()\n",
    "df = pd.DataFrame(data[1:], columns=['NAME', 'B17001_001E', 'B17001_002E', 'B23025_001E', 'B23025_005E', 'B19013_001E', 'state', 'zcta'])"
   ]
  },
  {
   "cell_type": "markdown",
   "metadata": {},
   "source": [
    "B17001_001E is the total population for whom poverty status is determined. It is used as a denominator for the poverty rate.\n",
    "\n",
    "B17001_002E is the total population for whom poverty status is determined and who are below poverty level. It is used as a numerator for the poverty rate.\n",
    "\n",
    "B23025_001E is the total population for whom employment status is determined. It is used as a denominator for the unemployment rate.\n",
    "\n",
    "B23025_005E is the total population for whom employment status is determined and who are unemployed. It is used as a numerator for the unemployment rate."
   ]
  },
  {
   "cell_type": "code",
   "execution_count": 5,
   "metadata": {},
   "outputs": [],
   "source": [
    "# Calculate the poverty and unemployment rates\n",
    "df['poverty_rate'] = (df['B17001_002E'].astype(float) / df['B17001_001E'].astype(float)) * 100\n",
    "df['unemployment_rate'] = (df['B23025_005E'].astype(float) / df['B23025_001E'].astype(float)) * 100\n"
   ]
  },
  {
   "cell_type": "code",
   "execution_count": 6,
   "metadata": {},
   "outputs": [],
   "source": [
    "# Convert median household income to float\n",
    "df['median_household_income'] = df['B19013_001E'].astype(float)"
   ]
  },
  {
   "cell_type": "code",
   "execution_count": 7,
   "metadata": {},
   "outputs": [],
   "source": [
    "# Select only the desired columns\n",
    "df = df[['zcta', 'poverty_rate', 'unemployment_rate', 'median_household_income']]"
   ]
  },
  {
   "cell_type": "code",
   "execution_count": 8,
   "metadata": {},
   "outputs": [
    {
     "name": "stdout",
     "output_type": "stream",
     "text": [
      "    zcta  poverty_rate  unemployment_rate  median_household_income\n",
      "0  11804      4.174695           0.976668                 112946.0\n",
      "1  11930      4.081633           0.000000                 102639.0\n",
      "2  11941      4.117974           0.000000                 123125.0\n",
      "3  11962      0.000000           0.000000                 113182.0\n",
      "4  11702      4.156929           2.287113                 130337.0\n"
     ]
    }
   ],
   "source": [
    "# Display the result\n",
    "print(df.head())\n"
   ]
  },
  {
   "cell_type": "code",
   "execution_count": 9,
   "metadata": {},
   "outputs": [
    {
     "data": {
      "text/html": [
       "<div>\n",
       "<style scoped>\n",
       "    .dataframe tbody tr th:only-of-type {\n",
       "        vertical-align: middle;\n",
       "    }\n",
       "\n",
       "    .dataframe tbody tr th {\n",
       "        vertical-align: top;\n",
       "    }\n",
       "\n",
       "    .dataframe thead th {\n",
       "        text-align: right;\n",
       "    }\n",
       "</style>\n",
       "<table border=\"1\" class=\"dataframe\">\n",
       "  <thead>\n",
       "    <tr style=\"text-align: right;\">\n",
       "      <th></th>\n",
       "      <th>zcta</th>\n",
       "      <th>poverty_rate</th>\n",
       "      <th>unemployment_rate</th>\n",
       "      <th>median_household_income</th>\n",
       "    </tr>\n",
       "  </thead>\n",
       "  <tbody>\n",
       "    <tr>\n",
       "      <th>0</th>\n",
       "      <td>11804</td>\n",
       "      <td>4.174695</td>\n",
       "      <td>0.976668</td>\n",
       "      <td>112946.0</td>\n",
       "    </tr>\n",
       "    <tr>\n",
       "      <th>1</th>\n",
       "      <td>11930</td>\n",
       "      <td>4.081633</td>\n",
       "      <td>0.000000</td>\n",
       "      <td>102639.0</td>\n",
       "    </tr>\n",
       "    <tr>\n",
       "      <th>2</th>\n",
       "      <td>11941</td>\n",
       "      <td>4.117974</td>\n",
       "      <td>0.000000</td>\n",
       "      <td>123125.0</td>\n",
       "    </tr>\n",
       "    <tr>\n",
       "      <th>3</th>\n",
       "      <td>11962</td>\n",
       "      <td>0.000000</td>\n",
       "      <td>0.000000</td>\n",
       "      <td>113182.0</td>\n",
       "    </tr>\n",
       "    <tr>\n",
       "      <th>4</th>\n",
       "      <td>11702</td>\n",
       "      <td>4.156929</td>\n",
       "      <td>2.287113</td>\n",
       "      <td>130337.0</td>\n",
       "    </tr>\n",
       "    <tr>\n",
       "      <th>...</th>\n",
       "      <td>...</td>\n",
       "      <td>...</td>\n",
       "      <td>...</td>\n",
       "      <td>...</td>\n",
       "    </tr>\n",
       "    <tr>\n",
       "      <th>1789</th>\n",
       "      <td>13305</td>\n",
       "      <td>0.000000</td>\n",
       "      <td>12.500000</td>\n",
       "      <td>48387.0</td>\n",
       "    </tr>\n",
       "    <tr>\n",
       "      <th>1790</th>\n",
       "      <td>13321</td>\n",
       "      <td>20.879121</td>\n",
       "      <td>1.468429</td>\n",
       "      <td>50373.0</td>\n",
       "    </tr>\n",
       "    <tr>\n",
       "      <th>1791</th>\n",
       "      <td>13345</td>\n",
       "      <td>5.384615</td>\n",
       "      <td>13.333333</td>\n",
       "      <td>51429.0</td>\n",
       "    </tr>\n",
       "    <tr>\n",
       "      <th>1792</th>\n",
       "      <td>13352</td>\n",
       "      <td>0.000000</td>\n",
       "      <td>0.000000</td>\n",
       "      <td>-666666666.0</td>\n",
       "    </tr>\n",
       "    <tr>\n",
       "      <th>1793</th>\n",
       "      <td>13362</td>\n",
       "      <td>13.333333</td>\n",
       "      <td>13.235294</td>\n",
       "      <td>60156.0</td>\n",
       "    </tr>\n",
       "  </tbody>\n",
       "</table>\n",
       "<p>1794 rows × 4 columns</p>\n",
       "</div>"
      ],
      "text/plain": [
       "       zcta  poverty_rate  unemployment_rate  median_household_income\n",
       "0     11804      4.174695           0.976668                 112946.0\n",
       "1     11930      4.081633           0.000000                 102639.0\n",
       "2     11941      4.117974           0.000000                 123125.0\n",
       "3     11962      0.000000           0.000000                 113182.0\n",
       "4     11702      4.156929           2.287113                 130337.0\n",
       "...     ...           ...                ...                      ...\n",
       "1789  13305      0.000000          12.500000                  48387.0\n",
       "1790  13321     20.879121           1.468429                  50373.0\n",
       "1791  13345      5.384615          13.333333                  51429.0\n",
       "1792  13352      0.000000           0.000000             -666666666.0\n",
       "1793  13362     13.333333          13.235294                  60156.0\n",
       "\n",
       "[1794 rows x 4 columns]"
      ]
     },
     "execution_count": 9,
     "metadata": {},
     "output_type": "execute_result"
    }
   ],
   "source": [
    "df"
   ]
  },
  {
   "cell_type": "code",
   "execution_count": 10,
   "metadata": {},
   "outputs": [],
   "source": [
    "df.to_csv('census_data-by-zipcode.csv')"
   ]
  },
  {
   "cell_type": "code",
   "execution_count": null,
   "metadata": {},
   "outputs": [],
   "source": []
  }
 ],
 "metadata": {
  "kernelspec": {
   "display_name": "Python 3.11.0rc2 64-bit ('3.11.0rc2')",
   "language": "python",
   "name": "python3"
  },
  "language_info": {
   "codemirror_mode": {
    "name": "ipython",
    "version": 3
   },
   "file_extension": ".py",
   "mimetype": "text/x-python",
   "name": "python",
   "nbconvert_exporter": "python",
   "pygments_lexer": "ipython3",
   "version": "3.11.0rc2"
  },
  "orig_nbformat": 4,
  "vscode": {
   "interpreter": {
    "hash": "854308f89581e90e24f66ab55470fdc716cc2de675cadd5a1b921037d9edf3fa"
   }
  }
 },
 "nbformat": 4,
 "nbformat_minor": 2
}
